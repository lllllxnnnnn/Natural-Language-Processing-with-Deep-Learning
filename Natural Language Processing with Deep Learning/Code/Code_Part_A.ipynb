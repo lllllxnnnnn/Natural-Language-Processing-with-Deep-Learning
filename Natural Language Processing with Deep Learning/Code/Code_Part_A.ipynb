{
 "cells": [
  {
   "cell_type": "markdown",
   "metadata": {},
   "source": [
    "<h1 style=\"text-align:center\"> Comprehend Sentiments in Product Reviews <br> (Natural Language Processing with Deep Learning) </h1>"
   ]
  },
  {
   "cell_type": "markdown",
   "metadata": {},
   "source": [
    "<center>Candidate Number: 23267 <br> Supervisor: Professor Milan Vojnovic</center>"
   ]
  },
  {
   "cell_type": "markdown",
   "metadata": {},
   "source": [
    "<center><font size = \"4\">Abstract</font></center>"
   ]
  },
  {
   "cell_type": "markdown",
   "metadata": {},
   "source": [
    "In this paper, I investigate text classification using Natural Language Processing (NLP) techniques and Neural Networks - Recurrent Neural Network (RNN) and Long Short Term Memory (LSTM)  to predict the appropriate sentiment label for each review. The input of the deep learning system will be product reviews comprised of product ratings and text descriptions of the reviews. \n",
    " \n",
    "Predicting the sentiment label of a written review is an essential and challenging task. Reviews support sellers in receiving feedback from their customers. Knowing the sentiment of a review, sellers can gain insights into their products and services, adding significant commercial value to businesses."
   ]
  },
  {
   "cell_type": "markdown",
   "metadata": {},
   "source": [
    "##  1 Introduction\n",
    "During the current pandemic, consumers have preferred online shopping due to social distancing and lockdown. Customer reviews are an essential factor that helps consumers judge the actual quality of products or services without physically inspecting the product. Although the sentiment of written reviews varies greatly, positive reviews will garner many votes from buyers over time. Furthermore, reviews assist vendors in receiving feedback from their customers. By understanding the sentiment of a review, sellers can gain insights into their products and services, adding significant commercial value to businesses. Thus, I chose Natural Language Processing (NLP) with Deep Learning to analyze sentiments of product reviews, which can support product sellers and consumers to take a focused approach on the reviews that matter to them.\n",
    "\n",
    "### 1.1 Problem Statement\n",
    "Because of the scarcity of labelled data, predicting the sentiment of a review is particularly difficult. Furthermore, the so-called \"obvious features\" - Score, which explicitly shows the sentiment of a text, are not always consistent with others since the scoring mechanism ranges between customers. \n",
    " \n",
    "The inherent difficulty of sentiment prediction is clearly demonstrated in the two example reviews listed below. Both reviews award \"3\" ratings despite the fact that they share distinct sentiments and linguistic structures.\n",
    "\n",
    "\n"
   ]
  },
  {
   "cell_type": "markdown",
   "metadata": {},
   "source": [
    "     \"My foie gras arrived quickly and fully frozen. I was able to easily separate it into two pieces to save one lobe for later. There was only the one connecting vein in the middle so prep was minimal.\"\n",
    "    \n",
    "     - “score”: 3; \"Summary\": Good Product\n",
    " \n",
    "\n"
   ]
  },
  {
   "cell_type": "markdown",
   "metadata": {},
   "source": [
    "     \"This egg pasta ingredient was \"powdered egg product\" and as such not as tasty as those containing the real thing. i don't like anything powdered, but price was RIGHT. can't have it all i guess.\"\n",
    "    \n",
    "     - “score”: 3; \"Summary\": Awful taste\n",
    "\n"
   ]
  },
  {
   "cell_type": "markdown",
   "metadata": {},
   "source": [
    "### 1.2 Methodology\n",
    "\n",
    "As an initial step, I construct a Logistic Regression model to obtain a baseline level of performance. I then trained a Recurrent Neural Network (RNN) on a dataset containing thousands of unstructured text reviews. Following that, I developed the Long Short Term Memory Neural Network (LSTM) model. And lastly, set performance metrics in evaluating and comparing different solutions.\n",
    " \n",
    "Neural Network Models facilitate the learning of long-term dependencies needed for problems such as sentimental analysis. Python will be used to pre-process the data and tokenized text comments (i.e. convert text to integer). In addition, TensorFlow will be used to generate embedding of the tokenized text and develop deep learning models.  "
   ]
  },
  {
   "cell_type": "markdown",
   "metadata": {},
   "source": [
    "## 2 Data\n",
    "\n",
    "### 2.1 Choice of Data\n",
    "\n",
    "Product ratings and textual descriptions are significant elements of product reviews. The dataset used in this experiment was the 'Amazon Fine Food Reviews' corpus, which comprises approximately 560K+ reviews posted by 256K separate people. ProductId, UserId, ProfileName, Helpfulness Numerator, Helpfulness Denominator, Score, Time, Summary, and Text are among the vectors used. \n",
    " \n",
    "Aside from that, I did some regular pre-processing for the feedback. All reviews have been translated to lower case, and all trailing spaces and punctuation have been deleted. Furthermore, the terms of each review have been tokenized or transformed into an integer value, producing a list of tokens (integers) for each review.\n",
    "\n"
   ]
  },
  {
   "cell_type": "markdown",
   "metadata": {
    "id": "O5D_LYy_OP0t"
   },
   "source": [
    "## Construct raw dataset Using Google Devices:"
   ]
  },
  {
   "cell_type": "code",
   "execution_count": 10,
   "metadata": {
    "colab": {
     "base_uri": "https://localhost:8080/"
    },
    "id": "BgmvJyfLwkl7",
    "outputId": "cca93cbe-45e1-4877-ba86-c910427ef781"
   },
   "outputs": [
    {
     "name": "stdout",
     "output_type": "stream",
     "text": [
      "Mounted at /content/drive\n"
     ]
    },
    {
     "data": {
      "text/plain": [
       "['Colab Notebooks',\n",
       " 'The Wealthfront Generation redux.pdf',\n",
       " 'message_zdm.html',\n",
       " 'Reviews2.csv']"
      ]
     },
     "execution_count": 10,
     "metadata": {
      "tags": []
     },
     "output_type": "execute_result"
    }
   ],
   "source": [
    "import os\n",
    "from google.colab import drive\n",
    "drive.mount('/content/drive')\n",
    "\n",
    "path = \"/content/drive/My Drive\"\n",
    "\n",
    "os.chdir(path)\n",
    "os.listdir(path)"
   ]
  },
  {
   "cell_type": "code",
   "execution_count": 11,
   "metadata": {
    "id": "fFtP15QOxBOB"
   },
   "outputs": [],
   "source": [
    "df = pd.read_csv('Reviews2.csv')\n",
    "# df.head(2)"
   ]
  },
  {
   "cell_type": "markdown",
   "metadata": {
    "id": "5e1YwWhcuY8y"
   },
   "source": [
    "## Import important packages"
   ]
  },
  {
   "cell_type": "code",
   "execution_count": 13,
   "metadata": {
    "colab": {
     "base_uri": "https://localhost:8080/"
    },
    "id": "F08VzjtXw0Nu",
    "outputId": "46fcdf7b-af5a-4aac-f491-8c5e4780fa32",
    "scrolled": true
   },
   "outputs": [
    {
     "name": "stderr",
     "output_type": "stream",
     "text": [
      "/usr/local/lib/python3.7/dist-packages/sklearn/externals/six.py:31: FutureWarning: The module is deprecated in version 0.21 and will be removed in version 0.23 since we've dropped support for Python 2.7. Please rely on the official version of six (https://pypi.org/project/six/).\n",
      "  \"(https://pypi.org/project/six/).\", FutureWarning)\n",
      "/usr/local/lib/python3.7/dist-packages/sklearn/utils/deprecation.py:144: FutureWarning: The sklearn.neighbors.base module is  deprecated in version 0.22 and will be removed in version 0.24. The corresponding classes / functions should instead be imported from sklearn.neighbors. Anything that cannot be imported from sklearn.neighbors is now part of the private API.\n",
      "  warnings.warn(message, FutureWarning)\n"
     ]
    },
    {
     "name": "stdout",
     "output_type": "stream",
     "text": [
      "[nltk_data] Downloading package punkt to /root/nltk_data...\n",
      "[nltk_data]   Unzipping tokenizers/punkt.zip.\n"
     ]
    },
    {
     "data": {
      "text/plain": [
       "True"
      ]
     },
     "execution_count": 13,
     "metadata": {
      "tags": []
     },
     "output_type": "execute_result"
    }
   ],
   "source": [
    "import numpy as np\n",
    "import pandas as pd\n",
    "import seaborn as sns\n",
    "import matplotlib.pyplot as plt\n",
    "import sklearn.metrics as metrics\n",
    "from pandas import read_csv\n",
    "from sklearn.model_selection import cross_val_score\n",
    "from sklearn.metrics import accuracy_score\n",
    "import os\n",
    "from tensorflow.python.keras.preprocessing.text import Tokenizer\n",
    "from tensorflow.python.keras.preprocessing.sequence import pad_sequences\n",
    "from keras.models import Sequential\n",
    "from keras.layers import Dense, Embedding, GRU, LSTM, BatchNormalization, Dropout\n",
    "from keras.layers.embeddings import Embedding\n",
    "from keras.initializers import Constant\n",
    "from keras.callbacks import ModelCheckpoint\n",
    "from keras.models import load_model\n",
    "from sklearn.linear_model import LogisticRegression\n",
    "from sklearn.metrics import accuracy_score\n",
    "from sklearn.metrics import precision_score\n",
    "from sklearn.metrics import recall_score\n",
    "from sklearn.metrics import f1_score\n",
    "from sklearn.metrics import classification_report\n",
    "from sklearn import metrics\n",
    "import string\n",
    "from nltk.tokenize import word_tokenize\n",
    "from nltk.corpus import stopwords\n",
    "from sklearn.model_selection import train_test_split, GridSearchCV, StratifiedKFold\n",
    "from imblearn.over_sampling import RandomOverSampler, SMOTE\n",
    "from itertools import chain\n",
    "import nltk\n",
    "nltk.download('punkt')"
   ]
  },
  {
   "cell_type": "markdown",
   "metadata": {},
   "source": [
    "### 2.2 Structure of data\n",
    "\n",
    "### 2.2.1 Numerical features of the dataset "
   ]
  },
  {
   "cell_type": "markdown",
   "metadata": {},
   "source": [
    "| Feature name | Feature description | Min.value | Max.value | SD |\n",
    "| :-----| ----: | :----: | :----: | :----: |\n",
    "| Helpfulness Numerator | Number of users who found the review helpful | 0 | 866 | 7.64 |\n",
    "| Helpfulness Denominator | Number of users who indicate whether they found the review helpful or not | 0 | 923 | 8.29 | \n",
    "| Score | Rating between 1 and 5 | 0 | 1 | 5 | \n",
    "| Time | timestamp for the review | 939m | 1.3b | 48m | \n",
    "\n"
   ]
  },
  {
   "cell_type": "markdown",
   "metadata": {},
   "source": [
    "The chart above provides statistical analysis and summary of all of the numerical features in the dataset, while the chart below describes all of the other non-numerical features in the dataset.\n",
    "\n",
    "### 2.2.2 Non-Numerical features of the dataset \n",
    "\n",
    "| Feature name | Feature description |\n",
    "| :-----| :-----|\n",
    "| Product Id | Identifier for the product |\n",
    "| User ID | Identifier for the user |\n",
    "| Profile Name | Profile Name of the user |\n",
    "| Summary | Summary of the review |\n",
    "| Text | Full discription of the reviwe weitten by costomers|\n",
    "\n"
   ]
  },
  {
   "cell_type": "markdown",
   "metadata": {},
   "source": [
    "### 2.3 Data balancing\n",
    "\n",
    "The distribution of reviews is skewed. I n order to reduce the difficulty of the neural network implementation, I utilise the data points in the training set where Revenue = 1 are over-sampled using the SMOTE function from the Imbalanced-Learn python library to match the number of data points where sentiment = 0.  This increases the cumulative number of data points from 390K to 668K. The latest dataset containing 334K data samples with Sentiment class 1 and 334K data samples with Sentiment class 0.  I made sure the class labels of the total number of the positive and negative targets are balanced."
   ]
  },
  {
   "cell_type": "markdown",
   "metadata": {},
   "source": [
    "## 3 Methodogy and Models\n",
    "\n",
    "### 3.1 Feature pipeline\n",
    "\n",
    "I use the review text as the primary feature source without providing the models with any additional meta-information about the review or the enterprise. The data obtained lacked a \"Sentiment\" feature, which is critical for model training. As a result, using a Lambda algorithm, a Sentiment feature was engineered from the Score feature. The lambda function is applied to each row in the Score feature so that any review with a score of 2 or lower is assigned a negative Sentiment class label of '0.'  Review's score more or equal 3 assigned a positive Sentiment label of '1.' As a result, the Sentiment function designed and selected as target variables. Now that the Target function has been created, the Score feature is no longer used, and instead, the Text and Sentiment functions are used as input and output variables. \n",
    "\n",
    "I did little pre-processing on the review text. Some salient points about the review pre-processing pipeline include : \n",
    "  - No lower-casing is performed. The effect of lower-casing was studied for the baseline model and was seen not to produce any tangible improvements. \n",
    "  - No stemming or lemmatization is performed. These operations were analyzed in the baseline model producing minimal to no differences in the model performance. \n",
    "  - Stop words and punctuations except for the question mark and exclamation point are removed. \n",
    "\n",
    "**Expected Outcome Example:**\n",
    "\n",
    "\n",
    "**Input:**\n",
    "\n",
    "| ID | Review Text Description |\n",
    "| :----: | :-----|\n",
    "| 0 | If Keurig brewers were evaluated by this particular K-Cup...... |\n",
    "| 1 | He brings me his Kong whenever I'm in the kitchen, without...... |\n",
    "| 2 | I was really disappointed in these olives. The are very mushy...... |\n",
    "| ... | ... |\n",
    "\n",
    "POSITIVE\tHe brings me his Kong whenever I'm in the kitchen, without me having to ask him anymore. I...\n",
    "POSITIVE\tI bought these on super sale because I needed them for a pie crust and they were cheap.  I...\n",
    "NEGATIVE\t I was really disappointed in these olives. The are very mushy and I prefer a more firm tex...\n",
    "\n",
    "**Output:**\n",
    "\n",
    "| ID | Sentiment |\n",
    "| :----: | :-----|\n",
    "| 0 | 0 |\n",
    "| 1 | 1 |\n",
    "| 2 | 0 |\n",
    "| ... | ... |\n",
    "\n",
    "### 3.2 Model Development"
   ]
  },
  {
   "cell_type": "markdown",
   "metadata": {},
   "source": [
    "\n",
    "\n",
    "#### 3.2.1 Base line: Logistics regression\n",
    "\n",
    "To set the base for the whole modelling implementation, a baseline standard of output must be established to determine if there is a progression in the prediction capacity of each subsequent model. In this paper, I developed a baseline model - Logistic Regression, which was trained on unigram and bigram bag-of-words review text features. \n",
    " \n",
    " \n",
    " \n",
    "#### 3.2.2 Neural Network Models:\n",
    "\n",
    "Two neural networks were used, and they are: \n",
    "\n",
    "**1. Recurrent Neural Networks (RNN)**\n",
    "\n",
    "A recurrent neural network (RNN) would be used to predict text classification. The majority of sentiment analysis approaches examine each term explicitly, attribute positive points for glowing manner and negative points for negative words, and then totalling the points. This is the lexicon process. However, the drawback of this approach is that it disregards the word order, resulting in the lack of essential information. Since it does not take the text at face value, the RNN method may consider subtleties. It develops symbolic representations of what it has discovered. \n",
    " \n",
    "I trained an RNN, which is a generalization of feed-forward neural networks required to facilitate sequential data. In a typical neural network, all input and output weights are independent of one another, and any data input has the same operation performed on it repeatedly. The output of the current input is based on the one from the previous computation. RNN will gather details about what has been determined so far for each variable in a series, and this information is saved because RNNs have a sense of memory. I collect RNN output to create the final prediction. To make the final prediction, the RNN model must spread dependencies over long distances.\n",
    "\n",
    "\n",
    "\n",
    "**2. Long Short Term Memory (LSTM) Neural Networks**\n",
    "\n",
    "Long Short Term Memory (LSTM) is known to control information flow using a system known as gates. LSTMs are essentially an improved variant of RNNs since they are designed to recall past data in the secret state even more efficiently, thus eliminating the disappearing gradient issue of RNNs. Backward induction is used to train LSTMs. \n",
    "\n",
    "  - Input gate: determines what importance of input can be used to change the memory. \n",
    "  - Forget gate: determines what data are to be omitted from the block's memory. \n",
    "  - Output gate: computes the output value depending on the input value and the block's memory.\n",
    "\n",
    "<p align=\"center\">\n",
    "<img src=\"picture/picture1.png\" width=\"550\" height=\"175\" />\n",
    "</p>\n",
    "\n",
    "The main advantage of LSTM is that it can memorize information. When there's too large of a gap between two pieces of information, RNN cannot learn to connect information. \n",
    "\n",
    "\n",
    "**Text Tokenization**\n",
    "\n",
    "The data in the Text feature was then tokenized into a numerical vector of numbers describing the texts in each row of data. This was accomplished in two stages: The texts from each row in the DataFrame were extracted and appended to a list, and then the Natural Language Tool Kit (NLTK) Tokenizer function was fitted on this list of texts to produce a sequence list for each row, which was then translated to an array. \n",
    "\n",
    "<p align=\"center\">\n",
    "<img src=\"picture/picture2.png\" width=\"400\" height=\"200\" />\n",
    "</p>\n",
    "\n",
    "**Embedding**\n",
    "\n",
    "Firstly, l use an embedding layer to represent words as vectors. This representation is more efficient than one-hot encoding. Then use the word2vec method to produce these embedding, which is built on the hypothesis that related terms occur in similar contexts and that words with parallel definitions will be identical to each other.\n",
    "\n",
    "<p align=\"center\">\n",
    "<img src=\"picture/picture3.png\" width=\"550\" height=\"175\" />\n",
    "</p>\n",
    "\n",
    "\n",
    "\n",
    "**Long Short Term Memory**\n",
    "\n",
    "The embedded words were further transfer to the LSTM cells. There are interactions between the first, second, and third LSTM cells used in the graph. Unlike most other models that presume that all inputs are independent of one another, these relations enable us to convey information stored in the word series. The power of the LSTM cell to incorporate or subtract information from the cell state is one of its strengths. \n",
    "\n",
    "**Output: positive or negative?**\n",
    "\n",
    "Finally, I can use the sigmoid function to predict whether the review is optimistic or ominous. The function has the benefit of being bound between 0 and 1 and can be viewed as a likelihood of performance. E.g., I may predict the likelihood that a review would be favourable. I have a performance at each stage. And it is critical to provide a final performance that forecasts the mood at the ending of the sentence.\n",
    "\n",
    "<p align=\"center\">\n",
    "<img src=\"picture/picture4.jpg\" width=\"400\" height=\"125\" />\n",
    "</p>\n",
    "\n",
    "<center>Sentiment Analysis Model</center>"
   ]
  },
  {
   "cell_type": "markdown",
   "metadata": {},
   "source": [
    "## 4 Implementation \n",
    "\n",
    "Coding of this part please check [Code_Part_B.ipynb] https://github.com/lse-st449/project-2021-lllllxnnnnn/blob/main/23267_ST449_Final_Project.ipynb/Code/Code_Part_B.ipynb\n",
    "\n",
    "### 4.1 Feature Engineering\n",
    "\n",
    "The bulk of scores were about 4 and 5, with a mean value of 4.18. I can render a binary prediction since the distribution is heavily biased to the left. A negative review would have a score between 1 and 3, whereas a positive review had a score between 4 and 5. After adding a new component called sentiment, which will be set to NEGATIVE when the Score is between 1 and 3, and POSITIVE when the Score is 4 or 5, I obtain the following new distribution: \n",
    "\n",
    "    POSITIVE    This brand of coffee has been available in my local stores for some time -- I've believe the company is local. I've been drinking it for quite some time and have not tired of it.  I'm particularly fond of the Turtle Sundae but all the flavors are good.  I can't say that I've had a bad one. As it turns out, it's less expensive to order it from Amazon and have it show up at my front door than it is for me to run out to the local Walmart to get it. It's a no brainer. Try it, if you like rich, flavored coffee, you'll like it.\n",
    "    \n",
    "    NEGATIVE     I have purchased numerous canned chicken products before, and of course none compare to real chicken. However, that being said, this product's quality is considerably below that of most canned chickens.  Other canned chickens have large chunks of white meat, while this product is full of small discolored pieces with pieces of what appear to be skin or fat. Considering the price is also higher than the store bought competitors, I can not recommend this product.\n",
    "    \n",
    "    POSITIVE     This coffee is better than McDonalds, StarBucks, Atlanta Bread, Folgers, Maxwell House and...\n",
    "    \n",
    "    NEGATIVE     I dont like the taste of this at all.  I have some other fennel tea from another company n...\n",
    "    \n",
    "    POSITIVE     I love all of Newman's Own products, and I like that their dog treats are all-natural and ...\n",
    "    \n",
    "    NEGATIVE     I was really disappointed in these olives. The are very mushy and I prefer a more firm tex...\n",
    "    \n",
    "    \n",
    "\n"
   ]
  },
  {
   "cell_type": "markdown",
   "metadata": {},
   "source": [
    "The input variable is an unstructured text. By looking characters of the review sentence, I can quickly have an idea of whether the review is positive or negative. For the negative reviews, I have negative expressions such as **\"below of most\"**, or **\"don't like\"**, These negative expressions can also be more nuanced depending on the context, such as **\"really disappointed.\"** For positive reviews, users use positive expression such as **\"better than McDonalds\"**, **\"love all of them\"**, **\"belive xxx is local\"**, **\"all flavors are good\",** **\"like it,\" etc**.\n",
    " \n",
    " "
   ]
  },
  {
   "cell_type": "markdown",
   "metadata": {},
   "source": [
    "The data was fed into the models after it had been effectively pre-processed and tokenized. But first, two critical measures were accomplished: \n",
    "\n",
    "\n",
    "#### 4.1.1 Data splitting \n",
    "\n",
    "Using the Train-Test-Split feature, the data is divided into 70% train data and 30% test data. Therefore, the target feature's stratifying parameter is adjusted to ensure that the amount of data points from each class in the target feature is proportionally divided between the train and test sets. 70% of the data was used for training to maximize the prediction accuracy of the models, especially on data points with a class Sentiment value of 0 because the data is imbalanced, with more data points with a Sentiment class label of 1. \n",
    " \n",
    "\n",
    "#### 4.1.2 Data balancing \n",
    "To solve the problem of data skewed, the data points in the training set with Revenue = 1 are over-sampled using the SMOTE algorithm from the Imbalanced-Learn python library to align the number of data points with Sentiment = 0. This includes the overall amount of data points from 390K to 668K. The latest dataset includes 334K data samples with Sentiment class of 1 and 334K data samples with Sentiment class of 0, balancing the total number of positive and negative target class labels."
   ]
  },
  {
   "cell_type": "markdown",
   "metadata": {},
   "source": [
    "### 4.2 Neural network model\n",
    "\n",
    "  1. The specification of the first Neural network model, model **RNN**, is as follows: \n",
    "\n"
   ]
  },
  {
   "cell_type": "markdown",
   "metadata": {},
   "source": [
    "        \n",
    " - Layer 1: The first layer is an Embedding layer (typically used for text data) that is initialized with the entire duration of the input data columns (100) and its vocabulary number (1000). It is then accompanied by a Dropout feature, which removes 30% of the data entering the next layer at random. This is achieved to reduce the overfitting of the neural network model as a whole. Finally, the data is normalized when it exits the embedding layer using a BatchNormalization algorithm. \n",
    "\n",
    "\n"
   ]
  },
  {
   "cell_type": "markdown",
   "metadata": {},
   "source": [
    " - Layer 2: The RNN is located in the second layer and is configured to accept and process the 32 outputs from the Embedding layer. A Dropout feature and a BatchNormalization function are often used here. \n",
    "\n"
   ]
  },
  {
   "cell_type": "markdown",
   "metadata": {},
   "source": [
    "\n",
    "  - Layer 3: The final layer is the dense layer that produces the final output/prediction. It is set up to emit a single value and is equipped with a sigmoid feature to reduce the binary list of possibilities to 1. The model is then built using RMSprop as the gradient optimization strategy and Binary Cross-Entropy as the loss function. \n",
    "\n",
    "\n"
   ]
  },
  {
   "cell_type": "markdown",
   "metadata": {},
   "source": [
    "  2. The second model - **LSTM**\n",
    "    - It is based on the same architecture as the first, except that in the second layer, the RNN network is replaced with an LSTM network.\n",
    "\n",
    "## 5 Experiments \n",
    "### 5.1 Performance Metrics"
   ]
  },
  {
   "cell_type": "markdown",
   "metadata": {},
   "source": [
    "$$\n",
    "Performance\\ Metrics\n",
    "\\begin{cases}\n",
    "\\ 1. Accuracy, &{Sum\\ of\\ correct\\ predictions \\over Sum\\ of\\ Predictions}\\\\\n",
    "\\\\\n",
    "\\\\\n",
    "\\ 2. Precision,  &{True\\ positive\\over True\\ positive\\ +\\ False\\ Positive}\\\\\n",
    "\\\\\n",
    "\\\\\n",
    "\\ 3. Recall,  &{True\\ positive\\over True\\ positive\\ +\\ False\\ Negative}\\\\\n",
    "\\\\\n",
    "\\\\\n",
    "\\ 4. Support,  &The\\ number\\ of\\ data\\ samples\\ used\\ from\\ each\\ class \\\\\n",
    "\\\\\n",
    "\\\\\n",
    "\\ 5. F1-score,  &The\\ ratio\\ of\\ the\\ product\\ of\\ Precision\\ and\\ Recall\\ to\\ their\\ sum\\ multiplied\\ by\\ two\n",
    "\\end{cases}\n",
    "$$\n",
    "\n",
    "\n"
   ]
  },
  {
   "cell_type": "code",
   "execution_count": 16,
   "metadata": {
    "colab": {
     "base_uri": "https://localhost:8080/",
     "height": 142
    },
    "id": "FGBv_1M214W7",
    "outputId": "f08c1441-3948-4057-caa0-269a6113842c"
   },
   "outputs": [
    {
     "data": {
      "text/html": [
       "<div>\n",
       "<style scoped>\n",
       "    .dataframe tbody tr th:only-of-type {\n",
       "        vertical-align: middle;\n",
       "    }\n",
       "\n",
       "    .dataframe tbody tr th {\n",
       "        vertical-align: top;\n",
       "    }\n",
       "\n",
       "    .dataframe thead th {\n",
       "        text-align: right;\n",
       "    }\n",
       "</style>\n",
       "<table border=\"1\" class=\"dataframe\">\n",
       "  <thead>\n",
       "    <tr style=\"text-align: right;\">\n",
       "      <th></th>\n",
       "      <th>Text</th>\n",
       "      <th>Sentiment</th>\n",
       "    </tr>\n",
       "  </thead>\n",
       "  <tbody>\n",
       "    <tr>\n",
       "      <th>0</th>\n",
       "      <td>I have bought several of the Vitality canned d...</td>\n",
       "      <td>1</td>\n",
       "    </tr>\n",
       "    <tr>\n",
       "      <th>1</th>\n",
       "      <td>Product arrived labeled as Jumbo Salted Peanut...</td>\n",
       "      <td>0</td>\n",
       "    </tr>\n",
       "    <tr>\n",
       "      <th>2</th>\n",
       "      <td>This is a confection that has been around a fe...</td>\n",
       "      <td>1</td>\n",
       "    </tr>\n",
       "  </tbody>\n",
       "</table>\n",
       "</div>"
      ],
      "text/plain": [
       "                                                Text  Sentiment\n",
       "0  I have bought several of the Vitality canned d...          1\n",
       "1  Product arrived labeled as Jumbo Salted Peanut...          0\n",
       "2  This is a confection that has been around a fe...          1"
      ]
     },
     "execution_count": 16,
     "metadata": {
      "tags": []
     },
     "output_type": "execute_result"
    }
   ],
   "source": [
    "# importing the amazon reviews datafile and selecting the needed columns\n",
    "df = pd.read_csv(\"Reviews2.csv\")\n",
    "df = df[['Score','Summary', 'Text']]\n",
    "\n",
    "# Engineering the sentiment feature from the score column\n",
    "df['Sentiment'] = df[\"Score\"].apply(lambda x: 1 if x > 2 else 0)\n",
    "df_mod = df[['Text', 'Sentiment']].copy()\n",
    "df_mod.head(3)"
   ]
  },
  {
   "cell_type": "code",
   "execution_count": 17,
   "metadata": {
    "id": "QJVxQgSexbXL"
   },
   "outputs": [],
   "source": [
    "# defining a function to carry out exploratory data analysis on the null and missing values in the data\n",
    "def info(data_fr):\n",
    "    for col in data_fr.columns:\n",
    "       # print(col ,': ',data_fr[col].value_counts())\n",
    "        print(col ,'total values: ',len(data_fr[col]))\n",
    "        print(col ,'null values: ',data_fr[col].isna().sum())\n",
    "        print(col ,'non-null values: ',data_fr[col].notnull().sum())\n",
    "        print('is unique: ', data_fr[col].nunique()/len(data_fr[col]))\n",
    "        print(col ,'duplicate values: ', (len(data_fr[col]) - data_fr[col].nunique()))\n",
    "        print('\\n')"
   ]
  },
  {
   "cell_type": "code",
   "execution_count": 18,
   "metadata": {
    "colab": {
     "base_uri": "https://localhost:8080/"
    },
    "id": "h16vRz0dxqxt",
    "outputId": "a748b373-ddb4-42b7-8392-20a3dccac379"
   },
   "outputs": [
    {
     "name": "stdout",
     "output_type": "stream",
     "text": [
      "Score total values:  568454\n",
      "Score null values:  0\n",
      "Score non-null values:  568454\n",
      "is unique:  8.795786466451111e-06\n",
      "Score duplicate values:  568449\n",
      "\n",
      "\n",
      "Summary total values:  568454\n",
      "Summary null values:  27\n",
      "Summary non-null values:  568427\n",
      "is unique:  0.5202566962322369\n",
      "Summary duplicate values:  272712\n",
      "\n",
      "\n",
      "Text total values:  568454\n",
      "Text null values:  0\n",
      "Text non-null values:  568454\n",
      "is unique:  0.6923673683358724\n",
      "Text duplicate values:  174875\n",
      "\n",
      "\n",
      "Sentiment total values:  568454\n",
      "Sentiment null values:  0\n",
      "Sentiment non-null values:  568454\n",
      "is unique:  3.5183145865804446e-06\n",
      "Sentiment duplicate values:  568452\n",
      "\n",
      "\n"
     ]
    }
   ],
   "source": [
    "info(df)"
   ]
  },
  {
   "cell_type": "code",
   "execution_count": 19,
   "metadata": {
    "colab": {
     "base_uri": "https://localhost:8080/"
    },
    "id": "HZmc8uM_xsZd",
    "outputId": "3a879919-3029-43d1-c5dc-369b69069803"
   },
   "outputs": [
    {
     "name": "stdout",
     "output_type": "stream",
     "text": [
      "Text total values:  568454\n",
      "Text null values:  0\n",
      "Text non-null values:  568454\n",
      "is unique:  0.6923673683358724\n",
      "Text duplicate values:  174875\n",
      "\n",
      "\n",
      "Sentiment total values:  568454\n",
      "Sentiment null values:  0\n",
      "Sentiment non-null values:  568454\n",
      "is unique:  3.5183145865804446e-06\n",
      "Sentiment duplicate values:  568452\n",
      "\n",
      "\n"
     ]
    }
   ],
   "source": [
    "#dropping the summary columnn to allow us focus on just the text feature we would be working with\n",
    "df.dropna(subset = ['Summary'], inplace = True)\n",
    "info(df_mod)"
   ]
  },
  {
   "cell_type": "code",
   "execution_count": 20,
   "metadata": {
    "id": "209nkeZ_xuk8"
   },
   "outputs": [],
   "source": [
    "# shuffling up the dataset to improve diversity of the datafile before splitting\n",
    "from sklearn.utils import shuffle\n",
    "df_mod = shuffle(df_mod)"
   ]
  },
  {
   "cell_type": "code",
   "execution_count": 21,
   "metadata": {
    "colab": {
     "base_uri": "https://localhost:8080/"
    },
    "id": "6C2x19i6xwbg",
    "outputId": "20c7128e-e7e8-42c0-f925-5c78d9423f62"
   },
   "outputs": [
    {
     "data": {
      "text/plain": [
       "1    486417\n",
       "0     82037\n",
       "Name: Sentiment, dtype: int64"
      ]
     },
     "execution_count": 21,
     "metadata": {
      "tags": []
     },
     "output_type": "execute_result"
    }
   ],
   "source": [
    "# checking the different number of rows for each label in out target feature\n",
    "df_mod.Sentiment.value_counts()"
   ]
  },
  {
   "cell_type": "code",
   "execution_count": 22,
   "metadata": {
    "colab": {
     "base_uri": "https://localhost:8080/"
    },
    "id": "Bx7JDzhsxxxx",
    "outputId": "51e31a60-4158-41eb-97f8-d1e80b41ca39"
   },
   "outputs": [
    {
     "data": {
      "text/plain": [
       "568454"
      ]
     },
     "execution_count": 22,
     "metadata": {
      "tags": []
     },
     "output_type": "execute_result"
    }
   ],
   "source": [
    "# creating a list to contain all the texts from our dataframe in preparation for tokenization of the words\n",
    "lines =[] \n",
    "  \n",
    "# Iterate over each row \n",
    "for index, rows in df_mod.iterrows(): \n",
    "    # Create list for the current row \n",
    "    my_list =str(rows.Text)\n",
    "      \n",
    "    # append the list to the final list \n",
    "    lines.append(my_list) \n",
    "  \n",
    "# Print the list \n",
    "len(lines)"
   ]
  },
  {
   "cell_type": "code",
   "execution_count": 23,
   "metadata": {
    "id": "3J36WC68xzju"
   },
   "outputs": [],
   "source": [
    "label=list(df_mod['Sentiment'])"
   ]
  },
  {
   "cell_type": "code",
   "execution_count": 24,
   "metadata": {
    "id": "WR04yJdAx6O5"
   },
   "outputs": [],
   "source": [
    "# tokenizing the words in the lines list so as to allow the data be usable my our neural network models\n",
    "tokenizer = Tokenizer(num_words=1000)\n",
    "tokenizer.fit_on_texts(lines)\n",
    "sequences = tokenizer.texts_to_sequences(lines)"
   ]
  },
  {
   "cell_type": "code",
   "execution_count": 25,
   "metadata": {
    "colab": {
     "base_uri": "https://localhost:8080/"
    },
    "id": "rnSH-85nx6v6",
    "outputId": "caa73f71-2009-4b86-d736-c1846f85ba5a"
   },
   "outputs": [
    {
     "name": "stderr",
     "output_type": "stream",
     "text": [
      "/usr/local/lib/python3.7/dist-packages/ipykernel_launcher.py:1: VisibleDeprecationWarning: Creating an ndarray from ragged nested sequences (which is a list-or-tuple of lists-or-tuples-or ndarrays with different lengths or shapes) is deprecated. If you meant to do this, you must specify 'dtype=object' when creating the ndarray\n",
      "  \"\"\"Entry point for launching an IPython kernel.\n"
     ]
    }
   ],
   "source": [
    "sequences = np.array(sequences)\n",
    "label = np.array(label)"
   ]
  },
  {
   "cell_type": "markdown",
   "metadata": {
    "id": "XXt_rRQwx9F8"
   },
   "source": [
    "## Modeling"
   ]
  },
  {
   "cell_type": "code",
   "execution_count": 28,
   "metadata": {
    "id": "NyUm5-JCyb3d"
   },
   "outputs": [],
   "source": [
    "# maually splitting the data into test and train test using a rough 70/30 distribution\n",
    "x_train=sequences[:390000]\n",
    "y_train=label[:390000]\n",
    "x_test=sequences[390000:]\n",
    "y_test=label[390000:]"
   ]
  },
  {
   "cell_type": "code",
   "execution_count": 29,
   "metadata": {
    "id": "ZtxFwc-YyedN"
   },
   "outputs": [],
   "source": [
    "# importing keras to preprocess our train and test data by padding them with zero values so each sub-list in them\n",
    "# contains the same number of elements\n",
    "maxlen = 100\n",
    "from keras import preprocessing\n",
    "x_train = preprocessing.sequence.pad_sequences(x_train, maxlen=maxlen)\n",
    "x_test = preprocessing.sequence.pad_sequences(x_test, maxlen=maxlen)"
   ]
  },
  {
   "cell_type": "code",
   "execution_count": 30,
   "metadata": {
    "colab": {
     "base_uri": "https://localhost:8080/"
    },
    "id": "TRV6NPQ8ygIP",
    "outputId": "9f8b6a06-f167-43a8-9b13-69792679137a"
   },
   "outputs": [
    {
     "name": "stderr",
     "output_type": "stream",
     "text": [
      "/usr/local/lib/python3.7/dist-packages/sklearn/utils/deprecation.py:87: FutureWarning: Function safe_indexing is deprecated; safe_indexing is deprecated in version 0.22 and will be removed in version 0.24.\n",
      "  warnings.warn(msg, category=FutureWarning)\n"
     ]
    }
   ],
   "source": [
    "#using smote to address data imbalance\n",
    "smote = SMOTE(random_state=1, k_neighbors=6)\n",
    "\n",
    "x_train_smote, y_smote = smote.fit_resample(x_train, y_train)\n",
    "\n"
   ]
  },
  {
   "cell_type": "code",
   "execution_count": 31,
   "metadata": {
    "colab": {
     "base_uri": "https://localhost:8080/"
    },
    "id": "M1DkNOJdyhmS",
    "outputId": "1a6ea8ec-458a-46f7-bfdd-094f0ab01397"
   },
   "outputs": [
    {
     "name": "stdout",
     "output_type": "stream",
     "text": [
      "1    333793\n",
      "0     56207\n",
      "Name: Sentiment, dtype: int64\n"
     ]
    }
   ],
   "source": [
    "y_df = pd.DataFrame(y_train, columns= [\"Sentiment\"])\n",
    "print(y_df[\"Sentiment\"].value_counts())"
   ]
  },
  {
   "cell_type": "code",
   "execution_count": 32,
   "metadata": {
    "colab": {
     "base_uri": "https://localhost:8080/"
    },
    "id": "J2X-zWoAyjcz",
    "outputId": "ea6d5b76-34c6-402c-bc82-b14cba1d9344"
   },
   "outputs": [
    {
     "name": "stdout",
     "output_type": "stream",
     "text": [
      "1    333793\n",
      "0    333793\n",
      "Name: Sentiment, dtype: int64\n"
     ]
    }
   ],
   "source": [
    "y_sdf = pd.DataFrame(y_smote, columns= [\"Sentiment\"])\n",
    "print(y_sdf[\"Sentiment\"].value_counts())"
   ]
  },
  {
   "cell_type": "code",
   "execution_count": 52,
   "metadata": {
    "colab": {
     "base_uri": "https://localhost:8080/",
     "height": 367
    },
    "id": "vl-Ah7kNylMu",
    "outputId": "f55b2382-bb3d-4f34-a77a-badcbfdfcc2d"
   },
   "outputs": [
    {
     "name": "stdout",
     "output_type": "stream",
     "text": [
      "   Y train  Y smote\n",
      "0   333881   333881\n",
      "1    56119   333881\n"
     ]
    },
    {
     "data": {
      "text/plain": [
       "<matplotlib.axes._subplots.AxesSubplot at 0x7fe4b21fae10>"
      ]
     },
     "execution_count": 52,
     "metadata": {
      "tags": []
     },
     "output_type": "execute_result"
    },
    {
     "data": {
      "image/png": "[encoded data removed]",
      "text/plain": [
       "<Figure size 504x288 with 1 Axes>"
      ]
     },
     "metadata": {
      "tags": []
     },
     "output_type": "display_data"
    }
   ],
   "source": [
    "# Creating bargraph to show class distribution of data before and after smote oversampling\n",
    "import matplotlib.pyplot as plt\n",
    "from matplotlib import style\n",
    "import seaborn as sns\n",
    "y_dict = {'Y train': [333881, 56119], 'Y smote': [333881, 333881]}\n",
    "\n",
    "y_comb = pd.DataFrame(data=y_dict)\n",
    "\n",
    "print(y_comb)\n",
    "\n",
    "# plotting the rss values of each feature on the train and test data side by side as a multiple bargraph\n",
    "style.use('ggplot')\n",
    "y_comb.T.plot(kind='bar',figsize=(7,4))"
   ]
  },
  {
   "cell_type": "markdown",
   "metadata": {
    "id": "6A8n_K_sy8mu"
   },
   "source": [
    "## Baseline model - Logistic Regression"
   ]
  },
  {
   "cell_type": "code",
   "execution_count": 34,
   "metadata": {
    "colab": {
     "base_uri": "https://localhost:8080/"
    },
    "id": "Y-LJPj6MzA2r",
    "outputId": "9b84b8b4-1cbf-4b22-c504-0fabbdac8b60"
   },
   "outputs": [
    {
     "name": "stdout",
     "output_type": "stream",
     "text": [
      "0.48825467627511854\n",
      "              precision    recall  f1-score   support\n",
      "\n",
      "           0       0.14      0.51      0.22     25830\n",
      "           1       0.85      0.48      0.62    152624\n",
      "\n",
      "    accuracy                           0.49    178454\n",
      "   macro avg       0.50      0.50      0.42    178454\n",
      "weighted avg       0.75      0.49      0.56    178454\n",
      "\n"
     ]
    }
   ],
   "source": [
    "## Baseline model - Logistic Regression\n",
    "# using the logistic regression model to establish a baseline performance our models should surpass\n",
    "lr_model = LogisticRegression()\n",
    "lr_model.fit(x_train_smote, y_smote)\n",
    "\n",
    "# printing out its performance\n",
    "y_pred_lr = lr_model.predict(x_test)\n",
    "print (accuracy_score(y_test, y_pred_lr))\n",
    "print(metrics.classification_report(y_test, y_pred_lr))"
   ]
  },
  {
   "cell_type": "markdown",
   "metadata": {
    "id": "uWRzgwKYzLyb"
   },
   "source": [
    "## RNN"
   ]
  },
  {
   "cell_type": "code",
   "execution_count": 35,
   "metadata": {
    "colab": {
     "base_uri": "https://localhost:8080/"
    },
    "id": "p9H9miqyzI0f",
    "outputId": "b1429107-e6fd-40ed-a06c-74ce9fb363a6"
   },
   "outputs": [
    {
     "name": "stdout",
     "output_type": "stream",
     "text": [
      "Model: \"sequential\"\n",
      "_________________________________________________________________\n",
      "Layer (type)                 Output Shape              Param #   \n",
      "=================================================================\n",
      "embedding (Embedding)        (None, 100, 32)           32000     \n",
      "_________________________________________________________________\n",
      "dropout (Dropout)            (None, 100, 32)           0         \n",
      "_________________________________________________________________\n",
      "batch_normalization (BatchNo (None, 100, 32)           128       \n",
      "_________________________________________________________________\n",
      "simple_rnn (SimpleRNN)       (None, 32)                2080      \n",
      "_________________________________________________________________\n",
      "dropout_1 (Dropout)          (None, 32)                0         \n",
      "_________________________________________________________________\n",
      "batch_normalization_1 (Batch (None, 32)                128       \n",
      "_________________________________________________________________\n",
      "dense (Dense)                (None, 1)                 33        \n",
      "=================================================================\n",
      "Total params: 34,369\n",
      "Trainable params: 34,241\n",
      "Non-trainable params: 128\n",
      "_________________________________________________________________\n",
      "Epoch 1/8\n",
      "2087/2087 [==============================] - 156s 73ms/step - loss: 0.5074 - acc: 0.7479 - val_loss: 0.5180 - val_acc: 0.8301\n",
      "Epoch 2/8\n",
      "2087/2087 [==============================] - 148s 71ms/step - loss: 0.3130 - acc: 0.8744 - val_loss: 0.3687 - val_acc: 0.8771\n",
      "Epoch 3/8\n",
      "2087/2087 [==============================] - 147s 70ms/step - loss: 0.2835 - acc: 0.8880 - val_loss: 0.5297 - val_acc: 0.8308\n",
      "Epoch 4/8\n",
      "2087/2087 [==============================] - 144s 69ms/step - loss: 0.2723 - acc: 0.8920 - val_loss: 0.3433 - val_acc: 0.8812\n",
      "Epoch 5/8\n",
      "2087/2087 [==============================] - 144s 69ms/step - loss: 0.2602 - acc: 0.8983 - val_loss: 0.1809 - val_acc: 0.9358\n",
      "Epoch 6/8\n",
      "2087/2087 [==============================] - 145s 69ms/step - loss: 0.2533 - acc: 0.9002 - val_loss: 0.3256 - val_acc: 0.8579\n",
      "Epoch 7/8\n",
      "2087/2087 [==============================] - 146s 70ms/step - loss: 0.2473 - acc: 0.9037 - val_loss: 0.3685 - val_acc: 0.8771\n",
      "Epoch 8/8\n",
      "2087/2087 [==============================] - 146s 70ms/step - loss: 0.2441 - acc: 0.9039 - val_loss: 0.1158 - val_acc: 0.9594\n"
     ]
    }
   ],
   "source": [
    "# building a simple RNN model with a single dense sigmoid layer to fit our binary class data\n",
    "from keras.layers import Embedding,SimpleRNN\n",
    "from keras.layers import Flatten, Dense\n",
    "from keras.layers import Embedding,SimpleRNN\n",
    "\n",
    "input_shape = [x_train_smote.shape[1]]\n",
    "\n",
    "model_rnn = Sequential()\n",
    "model_rnn.add(Embedding(1000, 32, input_length=maxlen))\n",
    "model_rnn.add(Dropout(rate=0.3))\n",
    "model_rnn.add(BatchNormalization())\n",
    "model_rnn.add(SimpleRNN(32))\n",
    "model_rnn.add(Dropout(rate=0.3))\n",
    "model_rnn.add(BatchNormalization())\n",
    "model_rnn.add(Dense(1, activation='sigmoid'))\n",
    "model_rnn.compile(optimizer='rmsprop', loss='binary_crossentropy', metrics=['acc'])\n",
    "model_rnn.summary()\n",
    "history_rnn = model_rnn.fit(x_train_smote, y_smote, epochs=8, batch_size=256, validation_split=0.2)"
   ]
  },
  {
   "cell_type": "code",
   "execution_count": 36,
   "metadata": {
    "colab": {
     "base_uri": "https://localhost:8080/"
    },
    "id": "dJrIaqKIzPtU",
    "outputId": "52573196-a516-457f-94e7-4616a98a7bfd"
   },
   "outputs": [
    {
     "name": "stderr",
     "output_type": "stream",
     "text": [
      "/usr/local/lib/python3.7/dist-packages/tensorflow/python/keras/engine/sequential.py:450: UserWarning: `model.predict_classes()` is deprecated and will be removed after 2021-01-01. Please use instead:* `np.argmax(model.predict(x), axis=-1)`,   if your model does multi-class classification   (e.g. if it uses a `softmax` last-layer activation).* `(model.predict(x) > 0.5).astype(\"int32\")`,   if your model does binary classification   (e.g. if it uses a `sigmoid` last-layer activation).\n",
      "  warnings.warn('`model.predict_classes()` is deprecated and '\n"
     ]
    }
   ],
   "source": [
    "# predict crisp classes for test set\n",
    "rnn_y_classes = model_rnn.predict_classes(x_test, verbose=0)"
   ]
  },
  {
   "cell_type": "code",
   "execution_count": null,
   "metadata": {
    "id": "LGVnPkQzzTOI"
   },
   "outputs": [],
   "source": [
    "# obtain performance of RNN model\n",
    "print(metrics.classification_report(y_test, rnn_y_classes))"
   ]
  },
  {
   "cell_type": "code",
   "execution_count": 38,
   "metadata": {
    "colab": {
     "base_uri": "https://localhost:8080/"
    },
    "id": "AqPer9yEzVFN",
    "outputId": "3960412d-0d93-4d69-e530-0a532565a828"
   },
   "outputs": [
    {
     "name": "stdout",
     "output_type": "stream",
     "text": [
      "              precision    recall  f1-score   support\n",
      "\n",
      "           0       0.69      0.70      0.70     25830\n",
      "           1       0.95      0.95      0.95    152624\n",
      "\n",
      "    accuracy                           0.91    178454\n",
      "   macro avg       0.82      0.82      0.82    178454\n",
      "weighted avg       0.91      0.91      0.91    178454\n",
      "\n"
     ]
    }
   ],
   "source": [
    "# obtain performance of RNN model\n",
    "print(metrics.classification_report(y_test, rnn_y_classes))"
   ]
  },
  {
   "cell_type": "markdown",
   "metadata": {
    "id": "mROTPB_yzZiz"
   },
   "source": [
    "LSTM"
   ]
  },
  {
   "cell_type": "code",
   "execution_count": 39,
   "metadata": {
    "colab": {
     "base_uri": "https://localhost:8080/"
    },
    "id": "zlRTgHpbzcJS",
    "outputId": "5e4a489a-181c-4987-e94e-cb2c68a0a19d"
   },
   "outputs": [
    {
     "name": "stdout",
     "output_type": "stream",
     "text": [
      "Model: \"sequential_1\"\n",
      "_________________________________________________________________\n",
      "Layer (type)                 Output Shape              Param #   \n",
      "=================================================================\n",
      "embedding_1 (Embedding)      (None, 100, 32)           32000     \n",
      "_________________________________________________________________\n",
      "dropout_2 (Dropout)          (None, 100, 32)           0         \n",
      "_________________________________________________________________\n",
      "batch_normalization_2 (Batch (None, 100, 32)           128       \n",
      "_________________________________________________________________\n",
      "lstm (LSTM)                  (None, 32)                8320      \n",
      "_________________________________________________________________\n",
      "dropout_3 (Dropout)          (None, 32)                0         \n",
      "_________________________________________________________________\n",
      "batch_normalization_3 (Batch (None, 32)                128       \n",
      "_________________________________________________________________\n",
      "dense_1 (Dense)              (None, 1)                 33        \n",
      "=================================================================\n",
      "Total params: 40,609\n",
      "Trainable params: 40,481\n",
      "Non-trainable params: 128\n",
      "_________________________________________________________________\n",
      "Epoch 1/8\n",
      "2087/2087 [==============================] - 55s 12ms/step - loss: 0.3927 - acc: 0.8146 - val_loss: 0.1263 - val_acc: 0.9567\n",
      "Epoch 2/8\n",
      "2087/2087 [==============================] - 24s 11ms/step - loss: 0.2112 - acc: 0.9137 - val_loss: 0.2085 - val_acc: 0.9313\n",
      "Epoch 3/8\n",
      "2087/2087 [==============================] - 24s 11ms/step - loss: 0.1951 - acc: 0.9205 - val_loss: 0.2163 - val_acc: 0.9159\n",
      "Epoch 4/8\n",
      "2087/2087 [==============================] - 24s 11ms/step - loss: 0.1843 - acc: 0.9250 - val_loss: 0.2209 - val_acc: 0.9037\n",
      "Epoch 5/8\n",
      "2087/2087 [==============================] - 24s 11ms/step - loss: 0.1771 - acc: 0.9282 - val_loss: 0.0708 - val_acc: 0.9754\n",
      "Epoch 6/8\n",
      "2087/2087 [==============================] - 24s 11ms/step - loss: 0.1724 - acc: 0.9300 - val_loss: 0.0796 - val_acc: 0.9689\n",
      "Epoch 7/8\n",
      "2087/2087 [==============================] - 24s 11ms/step - loss: 0.1686 - acc: 0.9322 - val_loss: 0.1013 - val_acc: 0.9618\n",
      "Epoch 8/8\n",
      "2087/2087 [==============================] - 24s 11ms/step - loss: 0.1648 - acc: 0.9335 - val_loss: 0.1374 - val_acc: 0.9442\n"
     ]
    }
   ],
   "source": [
    "# building a LSTM model with a single dense sigmoid layer to fit our binary class data\n",
    "model_lstm = Sequential()\n",
    "model_lstm.add(Embedding(1000, 32, input_length=maxlen))\n",
    "model_lstm.add(Dropout(rate=0.3))\n",
    "model_lstm.add(BatchNormalization())\n",
    "model_lstm.add(LSTM(32))\n",
    "model_lstm.add(Dropout(rate=0.3))\n",
    "model_lstm.add(BatchNormalization())\n",
    "model_lstm.add(Dense(1, activation='sigmoid'))\n",
    "model_lstm.compile(optimizer='rmsprop', loss='binary_crossentropy', metrics=['acc'])\n",
    "model_lstm.summary()\n",
    "history_lstm = model_lstm.fit(x_train_smote, y_smote, epochs=8, batch_size=256, validation_split=0.2)"
   ]
  },
  {
   "cell_type": "code",
   "execution_count": null,
   "metadata": {
    "id": "NRjQ5PChznoc"
   },
   "outputs": [],
   "source": [
    "# predict crisp classes for test set\n",
    "lstm_y_classes = model_lstm.predict_classes(x_test, verbose=0)"
   ]
  },
  {
   "cell_type": "code",
   "execution_count": null,
   "metadata": {
    "id": "v6zdRPb-zqYx"
   },
   "outputs": [],
   "source": [
    "# obtain performance of LSTM model\n",
    "print(metrics.classification_report(y_test, lstm_y_classes))"
   ]
  },
  {
   "cell_type": "code",
   "execution_count": null,
   "metadata": {
    "id": "nAmrnbLmzsYX"
   },
   "outputs": [],
   "source": [
    "# obtain performance of LSTM model\n",
    "print(metrics.classification_report(y_test, lstm_y_classes))"
   ]
  },
  {
   "cell_type": "markdown",
   "metadata": {
    "id": "jsVlbWrzz5lp"
   },
   "source": [
    "### 5.2 Model Performance\n",
    "Many emphases would be placed on F1-scores because F1-score is the parameter that shows how well our precision and recall scores balance each other. Below is the performance of the models on the test data "
   ]
  },
  {
   "cell_type": "markdown",
   "metadata": {
    "id": "3cUcfFgS0AZq"
   },
   "source": [
    "\n",
    "I evaluated the performance, and the findings are depicted in the diagrams above. The experimental results show that 1)The performance of the RNN and LSTM models outperforms the existing Logistic Regression, indicating the effectiveness of this experiment. 2)The RNN model achieved above-average performance in negative label prediction.  3) This finding supports the hypothesis that the LSTM model, as expected, outperforms RNN in terms of overall accuracy, as measured by its average precision, recall, and F1 performance. The graph below depicts the outcomes of each executing model variance."
   ]
  },
  {
   "cell_type": "code",
   "execution_count": 47,
   "metadata": {
    "colab": {
     "base_uri": "https://localhost:8080/",
     "height": 299
    },
    "id": "XMB6hFMm0Fgh",
    "outputId": "51044e06-6c9f-43ee-c725-b3a5bd98c74a"
   },
   "outputs": [
    {
     "data": {
      "image/png": "[encoded data removed]",
      "text/plain": [
       "<Figure size 432x288 with 1 Axes>"
      ]
     },
     "metadata": {
      "tags": []
     },
     "output_type": "display_data"
    }
   ],
   "source": [
    "plt.plot(history_rnn.history['acc'])\n",
    "plt.plot(history_lstm.history['acc'])\n",
    "plt.title('model train accuracy')\n",
    "plt.ylabel('accuracy')\n",
    "plt.xlabel('epoch')\n",
    "plt.legend(['train_rnn', 'train_lstm'], loc='lower right')\n",
    "plt.show()"
   ]
  },
  {
   "cell_type": "code",
   "execution_count": null,
   "metadata": {
    "id": "TUkdgasE0HXD"
   },
   "outputs": [],
   "source": [
    "plt.plot(history_rnn.history['val_acc'])\n",
    "plt.plot(history_lstm.history['val_acc'])\n",
    "plt.title('model validation accuracy')\n",
    "plt.ylabel('accuracy')\n",
    "plt.xlabel('epoch')\n",
    "plt.legend(['val_rnn', 'val_lstm'], loc='lower right')\n",
    "plt.show()"
   ]
  },
  {
   "cell_type": "code",
   "execution_count": 48,
   "metadata": {
    "colab": {
     "base_uri": "https://localhost:8080/",
     "height": 299
    },
    "id": "bO5eOkKo0Iza",
    "outputId": "b205e53e-cd5e-4dcd-e8e1-66a3ca4e059c"
   },
   "outputs": [
    {
     "data": {
      "image/png": "[encoded data removed]",
      "text/plain": [
       "<Figure size 432x288 with 1 Axes>"
      ]
     },
     "metadata": {
      "tags": []
     },
     "output_type": "display_data"
    }
   ],
   "source": [
    "plt.plot(history_rnn.history['loss'])\n",
    "plt.plot(history_lstm.history['loss'])\n",
    "plt.title('model train loss')\n",
    "plt.ylabel('accuracy')\n",
    "plt.xlabel('epoch')\n",
    "plt.legend(['train_rnn', 'train_lstm'], loc='upper right')\n",
    "plt.show()"
   ]
  },
  {
   "cell_type": "code",
   "execution_count": 49,
   "metadata": {
    "colab": {
     "base_uri": "https://localhost:8080/",
     "height": 299
    },
    "id": "9sIY4gjI0Kbh",
    "outputId": "66d60318-d885-4fd3-98d8-0085b25dd27d"
   },
   "outputs": [
    {
     "data": {
      "image/png": "[encoded data removed]",
      "text/plain": [
       "<Figure size 432x288 with 1 Axes>"
      ]
     },
     "metadata": {
      "tags": []
     },
     "output_type": "display_data"
    }
   ],
   "source": [
    "plt.plot(history_rnn.history['val_loss'])\n",
    "plt.plot(history_lstm.history['val_loss'])\n",
    "plt.title('model validation loss')\n",
    "plt.ylabel('accuracy')\n",
    "plt.xlabel('epoch')\n",
    "plt.legend(['val_rnn', 'val_lstm'], loc='upper right')\n",
    "plt.show()"
   ]
  },
  {
   "cell_type": "markdown",
   "metadata": {},
   "source": [
    "## 6 Conclusion and Future Work\n",
    "\n",
    "### 6.1 Summary\n",
    "\n",
    "In this paper, I implemented different neural models for sentiment prediction for reviews. This research demonstrated that neural networks could be effectively used to solve NLP binary classification deep learning problems. Because of its much superior memory short term memory device. LSTM was able to capture the information in the review text much better than the RNN model as it could get even higher accuracy and F1 scores due to its far superior memory short-term memory system.  \n",
    "\n",
    "\n",
    "### 6.2 Future Work\n",
    "\n",
    "The scope of this work was specific to the use of RNNs and LSTM neural networks to solve text classification problems. RNN models such as bidirectional RNN, multi-stack RNN, and RNN with residual connections can be applied to discover diverse neural network models with varying degrees of accuracy and performance on sentiment prediction. \n",
    " \n",
    "In the future, I would like to extend the model to obtain insights into the effects of multiple hyper-parameters on model performance by experimenting different combinations of hyper-parameter value combinations. A further direction could be interesting to investigate the combination of CNN and RNNs to optimize the model's performance. \n",
    "\n"
   ]
  },
  {
   "cell_type": "markdown",
   "metadata": {},
   "source": [
    "\n",
    "### Reference\n",
    "\n",
    "[1] J. Blitzer, M. Dredze, F. Pereira, \"Biographies, Bollywood, Boom-boxes and Blenders: Domain Adaptation for Sentiment Classification.\" Association of Computational Linguistics (ACL), 2007\n",
    "\n",
    "[2] Predicting Amazon product reviews’ ratings https://towardsdatascience.com/predicting-sentiment-of-amazon-product-reviews-6370f466fa73\n",
    "\n",
    "[3] S. Hochreiter, and J. Schmidhuber. \"LONG SHORT-TERM MEMORY.\" Neural ComputationNovember 1997\n",
    "\n",
    "[4] - Yoon Kim. 2014. Convolutional neural networks for sentence classification. In Proceedings of the 2014 Conference on Empirical Methods in Natural Language Processing (EMNLP). Association for Computational Linguistics, pages 1746–1751.\n",
    "\n",
    "[5] - Aditya Joshi, Vaibhav Tripathi, Kevin Patel, Pushpak Bhattacharyya, and Mark Carman. 2016. Are word embedding-based features useful for sarcasm detection? In Proceedings of the 2016 Conference on Empirical Methods in Natural Language Processing. Association for Computational Linguistics, pages 1006–1011.\n",
    "\n",
    "[6] T. Young, D. Hazarika, S. Poria and E. Cambria, \"Recent Trends in Deep Learning Based Natural Language Processing [Review Article],\" in IEEE Computational Intelligence Magazine, vol. 13, no. 3, pp. 55-75, Aug. 2018, doi: 10.1109/MCI.2018.2840738.\n",
    "\n",
    "[7] Y. Wang, M. Huang, X. Zhu, and L. Zhao, “Attention-based LSTM for aspect-level sentiment classification,” in Proc. Conf. Empirical Methods Natural Language Processing, 2016, pp. 606–615.\n",
    "\n",
    "[8] Y. Ma, H. Peng, and E. Cambria, “Targeted aspectbased sentiment analysis via embedding commonsense knowledge into an attentive LSTM,” in Proc. Association Advancement Artificial Intelligence Conf., 2018, pp. 5876–5883.\n",
    "\n",
    "[9] D.S. Sachan, M. Zaheer, R. Salakhutdinov, \"Revisiting LSTM Networks for Semi-Supervised Text Classifi- cation via Mixed Objective Function\", arXiv: 2009.04007\n",
    "\n",
    "[10] https://www.udacity.com/course/deep-learning-nanodegree-foundation--nd101\n",
    "\n",
    "[11] https://www.tensorflow.org/tutorials/word2vec"
   ]
  }
 ],
 "metadata": {
  "accelerator": "GPU",
  "colab": {
   "name": "ST449-01.ipynb",
   "provenance": []
  },
  "kernelspec": {
   "display_name": "Python 3",
   "language": "python",
   "name": "python3"
  },
  "language_info": {
   "codemirror_mode": {
    "name": "ipython",
    "version": 3
   },
   "file_extension": ".py",
   "mimetype": "text/x-python",
   "name": "python",
   "nbconvert_exporter": "python",
   "pygments_lexer": "ipython3",
   "version": "3.8.3"
  }
 },
 "nbformat": 4,
 "nbformat_minor": 1
}
